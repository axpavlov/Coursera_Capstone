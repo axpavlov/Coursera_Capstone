{
 "cells": [
  {
   "cell_type": "markdown",
   "metadata": {},
   "source": [
    "# Introduction/Business Problem"
   ]
  },
  {
   "cell_type": "markdown",
   "metadata": {},
   "source": [
    "#### The problem we will solve is: which of the neighbourhoods of Toronto are more suitable to open there a restaurant?"
   ]
  },
  {
   "cell_type": "markdown",
   "metadata": {},
   "source": [
    "#### To solve this problem we will use the dataframe from the previous ptactical work. The dataframe is the following"
   ]
  },
  {
   "cell_type": "code",
   "execution_count": 1,
   "metadata": {},
   "outputs": [],
   "source": [
    "import pandas as pd \n",
    "import numpy as np\n",
    "import requests\n",
    "from pandas.io.json import json_normalize\n",
    "\n",
    "csv_path='/resources/data/Toronto_neighbourhoods_2.csv'\n",
    "df=pd.read_csv(csv_path, sep=\",\", encoding='cp1252')\n",
    "df.drop(['Unnamed: 0'], axis=1,inplace=True)"
   ]
  },
  {
   "cell_type": "markdown",
   "metadata": {},
   "source": [
    "#### The dataframe df contains all Toronto postcodes and  boroughs as well as Toronto neighbourhoods grouped by their postcodes. Two last columns of the dataframe contain latitudes and longituges of these neighborhood groups."
   ]
  },
  {
   "cell_type": "code",
   "execution_count": 2,
   "metadata": {},
   "outputs": [
    {
     "data": {
      "text/html": [
       "<div>\n",
       "<style scoped>\n",
       "    .dataframe tbody tr th:only-of-type {\n",
       "        vertical-align: middle;\n",
       "    }\n",
       "\n",
       "    .dataframe tbody tr th {\n",
       "        vertical-align: top;\n",
       "    }\n",
       "\n",
       "    .dataframe thead th {\n",
       "        text-align: right;\n",
       "    }\n",
       "</style>\n",
       "<table border=\"1\" class=\"dataframe\">\n",
       "  <thead>\n",
       "    <tr style=\"text-align: right;\">\n",
       "      <th></th>\n",
       "      <th>Postcode</th>\n",
       "      <th>Borough</th>\n",
       "      <th>Neighbourhood</th>\n",
       "      <th>Latitude</th>\n",
       "      <th>Longitude</th>\n",
       "    </tr>\n",
       "  </thead>\n",
       "  <tbody>\n",
       "    <tr>\n",
       "      <th>0</th>\n",
       "      <td>M1B</td>\n",
       "      <td>Scarborough</td>\n",
       "      <td>Rouge, Malvern</td>\n",
       "      <td>43.806686</td>\n",
       "      <td>-79.194353</td>\n",
       "    </tr>\n",
       "    <tr>\n",
       "      <th>1</th>\n",
       "      <td>M1C</td>\n",
       "      <td>Scarborough</td>\n",
       "      <td>Highland Creek, Rouge Hill, Port Union</td>\n",
       "      <td>43.784535</td>\n",
       "      <td>-79.160497</td>\n",
       "    </tr>\n",
       "    <tr>\n",
       "      <th>2</th>\n",
       "      <td>M1E</td>\n",
       "      <td>Scarborough</td>\n",
       "      <td>Guildwood, Morningside, West Hill</td>\n",
       "      <td>43.763573</td>\n",
       "      <td>-79.188711</td>\n",
       "    </tr>\n",
       "    <tr>\n",
       "      <th>3</th>\n",
       "      <td>M1G</td>\n",
       "      <td>Scarborough</td>\n",
       "      <td>Woburn</td>\n",
       "      <td>43.770992</td>\n",
       "      <td>-79.216917</td>\n",
       "    </tr>\n",
       "    <tr>\n",
       "      <th>4</th>\n",
       "      <td>M1H</td>\n",
       "      <td>Scarborough</td>\n",
       "      <td>Cedarbrae</td>\n",
       "      <td>43.773136</td>\n",
       "      <td>-79.239476</td>\n",
       "    </tr>\n",
       "  </tbody>\n",
       "</table>\n",
       "</div>"
      ],
      "text/plain": [
       "  Postcode      Borough                           Neighbourhood   Latitude  \\\n",
       "0      M1B  Scarborough                          Rouge, Malvern  43.806686   \n",
       "1      M1C  Scarborough  Highland Creek, Rouge Hill, Port Union  43.784535   \n",
       "2      M1E  Scarborough       Guildwood, Morningside, West Hill  43.763573   \n",
       "3      M1G  Scarborough                                  Woburn  43.770992   \n",
       "4      M1H  Scarborough                               Cedarbrae  43.773136   \n",
       "\n",
       "   Longitude  \n",
       "0 -79.194353  \n",
       "1 -79.160497  \n",
       "2 -79.188711  \n",
       "3 -79.216917  \n",
       "4 -79.239476  "
      ]
     },
     "execution_count": 2,
     "metadata": {},
     "output_type": "execute_result"
    }
   ],
   "source": [
    "df.head()"
   ]
  },
  {
   "cell_type": "markdown",
   "metadata": {},
   "source": [
    "#### The dataframe df contains 103 rows and 5 columns"
   ]
  },
  {
   "cell_type": "code",
   "execution_count": 3,
   "metadata": {},
   "outputs": [
    {
     "data": {
      "text/plain": [
       "(103, 5)"
      ]
     },
     "execution_count": 3,
     "metadata": {},
     "output_type": "execute_result"
    }
   ],
   "source": [
    "df.shape"
   ]
  },
  {
   "cell_type": "markdown",
   "metadata": {},
   "source": [
    "## Define Foursquare Credentials and Version"
   ]
  },
  {
   "cell_type": "code",
   "execution_count": 4,
   "metadata": {
    "collapsed": false
   },
   "outputs": [
    {
     "name": "stdout",
     "output_type": "stream",
     "text": [
      "Your credentails:\n",
      "CLIENT_ID: OTQDBGJPMXHTIMHHNO5OPVE1VJBEOZ3NHSWWMRMUB1N0MW5H\n",
      "CLIENT_SECRET:QHV23BYJTV2BATLWELNUMSXG1VTPU4UV2MAYW4MIZMP2UN55\n"
     ]
    }
   ],
   "source": [
    "CLIENT_ID = 'OTQDBGJPMXHTIMHHNO5OPVE1VJBEOZ3NHSWWMRMUB1N0MW5H' # your Foursquare ID\n",
    "CLIENT_SECRET = 'QHV23BYJTV2BATLWELNUMSXG1VTPU4UV2MAYW4MIZMP2UN55' # your Foursquare Secret\n",
    "VERSION = '20180605' # Foursquare API version\n",
    "LIMIT=30\n",
    "\n",
    "print('Your credentails:')\n",
    "print('CLIENT_ID: ' + CLIENT_ID)\n",
    "print('CLIENT_SECRET:' + CLIENT_SECRET)"
   ]
  },
  {
   "cell_type": "markdown",
   "metadata": {},
   "source": [
    "#### For each group of neighbourhoods in df we will be interested in number of restaurants within 1000 meters from the geographical position of that group (which is given by two last columns of df in the corresponding row). So, first put radius = 1000 and search_query='restaurant'"
   ]
  },
  {
   "cell_type": "code",
   "execution_count": 5,
   "metadata": {},
   "outputs": [],
   "source": [
    "radius=1000\n",
    "search_query='restaurant'"
   ]
  },
  {
   "cell_type": "markdown",
   "metadata": {},
   "source": [
    "## Consider an example of a FourSquare query that we will use below. For this example we take the latitude and longitude from the third row of the dataframe df (i.e. for the postal code M1E)."
   ]
  },
  {
   "cell_type": "code",
   "execution_count": 6,
   "metadata": {},
   "outputs": [],
   "source": [
    "lat = 43.763573\n",
    "lng = -79.188711"
   ]
  },
  {
   "cell_type": "markdown",
   "metadata": {},
   "source": [
    "#### Define the corresponding URL"
   ]
  },
  {
   "cell_type": "code",
   "execution_count": 7,
   "metadata": {},
   "outputs": [
    {
     "data": {
      "text/plain": [
       "'https://api.foursquare.com/v2/venues/search?client_id=OTQDBGJPMXHTIMHHNO5OPVE1VJBEOZ3NHSWWMRMUB1N0MW5H&client_secret=QHV23BYJTV2BATLWELNUMSXG1VTPU4UV2MAYW4MIZMP2UN55&ll=43.763573,-79.188711&v=20180605&query=restaurant&radius=1000&limit=30'"
      ]
     },
     "execution_count": 7,
     "metadata": {},
     "output_type": "execute_result"
    }
   ],
   "source": [
    "url = 'https://api.foursquare.com/v2/venues/search?client_id={}&client_secret={}&ll={},{}&v={}&query={}&radius={}&limit={}'.format(CLIENT_ID, CLIENT_SECRET, lat, lng, VERSION, search_query, radius, LIMIT)\n",
    "url"
   ]
  },
  {
   "cell_type": "markdown",
   "metadata": {},
   "source": [
    "#### Send the GET Request and examine the results"
   ]
  },
  {
   "cell_type": "code",
   "execution_count": 8,
   "metadata": {},
   "outputs": [
    {
     "data": {
      "text/plain": [
       "{'meta': {'code': 200, 'requestId': '5bf5a97d351e3d1640b76b93'},\n",
       " 'response': {'venues': [{'id': '4b7054e3f964a5204d132de3',\n",
       "    'name': 'Wonder Season Chinese Restaurant',\n",
       "    'location': {'address': '4379 Kingston Road',\n",
       "     'lat': 43.76535407,\n",
       "     'lng': -79.19053556,\n",
       "     'labeledLatLngs': [{'label': 'display',\n",
       "       'lat': 43.76535407,\n",
       "       'lng': -79.19053556}],\n",
       "     'distance': 246,\n",
       "     'cc': 'CA',\n",
       "     'city': 'Toronto',\n",
       "     'state': 'ON',\n",
       "     'country': 'Canada',\n",
       "     'formattedAddress': ['4379 Kingston Road', 'Toronto ON', 'Canada']},\n",
       "    'categories': [],\n",
       "    'referralId': 'v-1542826365',\n",
       "    'hasPerk': False},\n",
       "   {'id': '4ea863ad5c5cc8e499272572',\n",
       "    'name': 'Mahar Restaurant',\n",
       "    'location': {'address': 'Gerrard Street',\n",
       "     'lat': 43.76934,\n",
       "     'lng': -79.18818,\n",
       "     'labeledLatLngs': [{'label': 'display',\n",
       "       'lat': 43.76934,\n",
       "       'lng': -79.18818}],\n",
       "     'distance': 643,\n",
       "     'cc': 'CA',\n",
       "     'city': 'Toronto',\n",
       "     'state': 'ON',\n",
       "     'country': 'Canada',\n",
       "     'formattedAddress': ['Gerrard Street', 'Toronto ON', 'Canada']},\n",
       "    'categories': [],\n",
       "    'referralId': 'v-1542826365',\n",
       "    'hasPerk': False},\n",
       "   {'id': '4b9023e9f964a5200e7833e3',\n",
       "    'name': \"McDonald's\",\n",
       "    'location': {'address': '4434 Kingston Rd',\n",
       "     'crossStreet': 'Lawrence Ave E',\n",
       "     'lat': 43.768347177966554,\n",
       "     'lng': -79.18836835499098,\n",
       "     'labeledLatLngs': [{'label': 'display',\n",
       "       'lat': 43.768347177966554,\n",
       "       'lng': -79.18836835499098}],\n",
       "     'distance': 532,\n",
       "     'postalCode': 'M1E',\n",
       "     'cc': 'CA',\n",
       "     'city': 'Scarborough',\n",
       "     'state': 'ON',\n",
       "     'country': 'Canada',\n",
       "     'formattedAddress': ['4434 Kingston Rd (Lawrence Ave E)',\n",
       "      'Scarborough ON M1E',\n",
       "      'Canada']},\n",
       "    'categories': [{'id': '4bf58dd8d48988d16e941735',\n",
       "      'name': 'Fast Food Restaurant',\n",
       "      'pluralName': 'Fast Food Restaurants',\n",
       "      'shortName': 'Fast Food',\n",
       "      'icon': {'prefix': 'https://ss3.4sqi.net/img/categories_v2/food/fastfood_',\n",
       "       'suffix': '.png'},\n",
       "      'primary': True}],\n",
       "    'referralId': 'v-1542826365',\n",
       "    'hasPerk': False},\n",
       "   {'id': '4ccc6b0dba0a5481623f3d59',\n",
       "    'name': 'Tai Chi Restaurant',\n",
       "    'location': {'address': '4190 Kingston Road',\n",
       "     'lat': 43.759544,\n",
       "     'lng': -79.19818,\n",
       "     'labeledLatLngs': [{'label': 'display',\n",
       "       'lat': 43.759544,\n",
       "       'lng': -79.19818}],\n",
       "     'distance': 883,\n",
       "     'cc': 'CA',\n",
       "     'city': 'Toronto',\n",
       "     'state': 'ON',\n",
       "     'country': 'Canada',\n",
       "     'formattedAddress': ['4190 Kingston Road', 'Toronto ON', 'Canada']},\n",
       "    'categories': [{'id': '4bf58dd8d48988d145941735',\n",
       "      'name': 'Chinese Restaurant',\n",
       "      'pluralName': 'Chinese Restaurants',\n",
       "      'shortName': 'Chinese',\n",
       "      'icon': {'prefix': 'https://ss3.4sqi.net/img/categories_v2/food/asian_',\n",
       "       'suffix': '.png'},\n",
       "      'primary': True}],\n",
       "    'referralId': 'v-1542826365',\n",
       "    'hasPerk': False},\n",
       "   {'id': '4c85aa5bee6fef3b1d1d3e5c',\n",
       "    'name': 'Peking Garden Restaurant',\n",
       "    'location': {'address': '4532 Kingston Road',\n",
       "     'crossStreet': 'Morningside Ave.',\n",
       "     'lat': 43.771945914107526,\n",
       "     'lng': -79.18597585406036,\n",
       "     'labeledLatLngs': [{'label': 'display',\n",
       "       'lat': 43.771945914107526,\n",
       "       'lng': -79.18597585406036}],\n",
       "     'distance': 957,\n",
       "     'postalCode': 'M1E 2N8',\n",
       "     'cc': 'CA',\n",
       "     'city': 'Scarborough',\n",
       "     'state': 'ON',\n",
       "     'country': 'Canada',\n",
       "     'formattedAddress': ['4532 Kingston Road (Morningside Ave.)',\n",
       "      'Scarborough ON M1E 2N8',\n",
       "      'Canada']},\n",
       "    'categories': [{'id': '4bf58dd8d48988d145941735',\n",
       "      'name': 'Chinese Restaurant',\n",
       "      'pluralName': 'Chinese Restaurants',\n",
       "      'shortName': 'Chinese',\n",
       "      'icon': {'prefix': 'https://ss3.4sqi.net/img/categories_v2/food/asian_',\n",
       "       'suffix': '.png'},\n",
       "      'primary': True}],\n",
       "    'referralId': 'v-1542826365',\n",
       "    'hasPerk': False}]}}"
      ]
     },
     "execution_count": 8,
     "metadata": {},
     "output_type": "execute_result"
    }
   ],
   "source": [
    "results = requests.get(url).json()\n",
    "results"
   ]
  },
  {
   "cell_type": "markdown",
   "metadata": {},
   "source": [
    "#### Get relevant part of JSON and transform it into a *pandas* dataframe"
   ]
  },
  {
   "cell_type": "code",
   "execution_count": 9,
   "metadata": {},
   "outputs": [
    {
     "data": {
      "text/html": [
       "<div>\n",
       "<style scoped>\n",
       "    .dataframe tbody tr th:only-of-type {\n",
       "        vertical-align: middle;\n",
       "    }\n",
       "\n",
       "    .dataframe tbody tr th {\n",
       "        vertical-align: top;\n",
       "    }\n",
       "\n",
       "    .dataframe thead th {\n",
       "        text-align: right;\n",
       "    }\n",
       "</style>\n",
       "<table border=\"1\" class=\"dataframe\">\n",
       "  <thead>\n",
       "    <tr style=\"text-align: right;\">\n",
       "      <th></th>\n",
       "      <th>categories</th>\n",
       "      <th>hasPerk</th>\n",
       "      <th>id</th>\n",
       "      <th>location.address</th>\n",
       "      <th>location.cc</th>\n",
       "      <th>location.city</th>\n",
       "      <th>location.country</th>\n",
       "      <th>location.crossStreet</th>\n",
       "      <th>location.distance</th>\n",
       "      <th>location.formattedAddress</th>\n",
       "      <th>location.labeledLatLngs</th>\n",
       "      <th>location.lat</th>\n",
       "      <th>location.lng</th>\n",
       "      <th>location.postalCode</th>\n",
       "      <th>location.state</th>\n",
       "      <th>name</th>\n",
       "      <th>referralId</th>\n",
       "    </tr>\n",
       "  </thead>\n",
       "  <tbody>\n",
       "    <tr>\n",
       "      <th>0</th>\n",
       "      <td>[]</td>\n",
       "      <td>False</td>\n",
       "      <td>4b7054e3f964a5204d132de3</td>\n",
       "      <td>4379 Kingston Road</td>\n",
       "      <td>CA</td>\n",
       "      <td>Toronto</td>\n",
       "      <td>Canada</td>\n",
       "      <td>NaN</td>\n",
       "      <td>246</td>\n",
       "      <td>[4379 Kingston Road, Toronto ON, Canada]</td>\n",
       "      <td>[{'label': 'display', 'lat': 43.76535407, 'lng...</td>\n",
       "      <td>43.765354</td>\n",
       "      <td>-79.190536</td>\n",
       "      <td>NaN</td>\n",
       "      <td>ON</td>\n",
       "      <td>Wonder Season Chinese Restaurant</td>\n",
       "      <td>v-1542826365</td>\n",
       "    </tr>\n",
       "    <tr>\n",
       "      <th>1</th>\n",
       "      <td>[]</td>\n",
       "      <td>False</td>\n",
       "      <td>4ea863ad5c5cc8e499272572</td>\n",
       "      <td>Gerrard Street</td>\n",
       "      <td>CA</td>\n",
       "      <td>Toronto</td>\n",
       "      <td>Canada</td>\n",
       "      <td>NaN</td>\n",
       "      <td>643</td>\n",
       "      <td>[Gerrard Street, Toronto ON, Canada]</td>\n",
       "      <td>[{'label': 'display', 'lat': 43.76934, 'lng': ...</td>\n",
       "      <td>43.769340</td>\n",
       "      <td>-79.188180</td>\n",
       "      <td>NaN</td>\n",
       "      <td>ON</td>\n",
       "      <td>Mahar Restaurant</td>\n",
       "      <td>v-1542826365</td>\n",
       "    </tr>\n",
       "    <tr>\n",
       "      <th>2</th>\n",
       "      <td>[{'id': '4bf58dd8d48988d16e941735', 'name': 'F...</td>\n",
       "      <td>False</td>\n",
       "      <td>4b9023e9f964a5200e7833e3</td>\n",
       "      <td>4434 Kingston Rd</td>\n",
       "      <td>CA</td>\n",
       "      <td>Scarborough</td>\n",
       "      <td>Canada</td>\n",
       "      <td>Lawrence Ave E</td>\n",
       "      <td>532</td>\n",
       "      <td>[4434 Kingston Rd (Lawrence Ave E), Scarboroug...</td>\n",
       "      <td>[{'label': 'display', 'lat': 43.76834717796655...</td>\n",
       "      <td>43.768347</td>\n",
       "      <td>-79.188368</td>\n",
       "      <td>M1E</td>\n",
       "      <td>ON</td>\n",
       "      <td>McDonald's</td>\n",
       "      <td>v-1542826365</td>\n",
       "    </tr>\n",
       "    <tr>\n",
       "      <th>3</th>\n",
       "      <td>[{'id': '4bf58dd8d48988d145941735', 'name': 'C...</td>\n",
       "      <td>False</td>\n",
       "      <td>4ccc6b0dba0a5481623f3d59</td>\n",
       "      <td>4190 Kingston Road</td>\n",
       "      <td>CA</td>\n",
       "      <td>Toronto</td>\n",
       "      <td>Canada</td>\n",
       "      <td>NaN</td>\n",
       "      <td>883</td>\n",
       "      <td>[4190 Kingston Road, Toronto ON, Canada]</td>\n",
       "      <td>[{'label': 'display', 'lat': 43.759544, 'lng':...</td>\n",
       "      <td>43.759544</td>\n",
       "      <td>-79.198180</td>\n",
       "      <td>NaN</td>\n",
       "      <td>ON</td>\n",
       "      <td>Tai Chi Restaurant</td>\n",
       "      <td>v-1542826365</td>\n",
       "    </tr>\n",
       "    <tr>\n",
       "      <th>4</th>\n",
       "      <td>[{'id': '4bf58dd8d48988d145941735', 'name': 'C...</td>\n",
       "      <td>False</td>\n",
       "      <td>4c85aa5bee6fef3b1d1d3e5c</td>\n",
       "      <td>4532 Kingston Road</td>\n",
       "      <td>CA</td>\n",
       "      <td>Scarborough</td>\n",
       "      <td>Canada</td>\n",
       "      <td>Morningside Ave.</td>\n",
       "      <td>957</td>\n",
       "      <td>[4532 Kingston Road (Morningside Ave.), Scarbo...</td>\n",
       "      <td>[{'label': 'display', 'lat': 43.77194591410752...</td>\n",
       "      <td>43.771946</td>\n",
       "      <td>-79.185976</td>\n",
       "      <td>M1E 2N8</td>\n",
       "      <td>ON</td>\n",
       "      <td>Peking Garden Restaurant</td>\n",
       "      <td>v-1542826365</td>\n",
       "    </tr>\n",
       "  </tbody>\n",
       "</table>\n",
       "</div>"
      ],
      "text/plain": [
       "                                          categories  hasPerk  \\\n",
       "0                                                 []    False   \n",
       "1                                                 []    False   \n",
       "2  [{'id': '4bf58dd8d48988d16e941735', 'name': 'F...    False   \n",
       "3  [{'id': '4bf58dd8d48988d145941735', 'name': 'C...    False   \n",
       "4  [{'id': '4bf58dd8d48988d145941735', 'name': 'C...    False   \n",
       "\n",
       "                         id    location.address location.cc location.city  \\\n",
       "0  4b7054e3f964a5204d132de3  4379 Kingston Road          CA       Toronto   \n",
       "1  4ea863ad5c5cc8e499272572      Gerrard Street          CA       Toronto   \n",
       "2  4b9023e9f964a5200e7833e3    4434 Kingston Rd          CA   Scarborough   \n",
       "3  4ccc6b0dba0a5481623f3d59  4190 Kingston Road          CA       Toronto   \n",
       "4  4c85aa5bee6fef3b1d1d3e5c  4532 Kingston Road          CA   Scarborough   \n",
       "\n",
       "  location.country location.crossStreet  location.distance  \\\n",
       "0           Canada                  NaN                246   \n",
       "1           Canada                  NaN                643   \n",
       "2           Canada       Lawrence Ave E                532   \n",
       "3           Canada                  NaN                883   \n",
       "4           Canada     Morningside Ave.                957   \n",
       "\n",
       "                           location.formattedAddress  \\\n",
       "0           [4379 Kingston Road, Toronto ON, Canada]   \n",
       "1               [Gerrard Street, Toronto ON, Canada]   \n",
       "2  [4434 Kingston Rd (Lawrence Ave E), Scarboroug...   \n",
       "3           [4190 Kingston Road, Toronto ON, Canada]   \n",
       "4  [4532 Kingston Road (Morningside Ave.), Scarbo...   \n",
       "\n",
       "                             location.labeledLatLngs  location.lat  \\\n",
       "0  [{'label': 'display', 'lat': 43.76535407, 'lng...     43.765354   \n",
       "1  [{'label': 'display', 'lat': 43.76934, 'lng': ...     43.769340   \n",
       "2  [{'label': 'display', 'lat': 43.76834717796655...     43.768347   \n",
       "3  [{'label': 'display', 'lat': 43.759544, 'lng':...     43.759544   \n",
       "4  [{'label': 'display', 'lat': 43.77194591410752...     43.771946   \n",
       "\n",
       "   location.lng location.postalCode location.state  \\\n",
       "0    -79.190536                 NaN             ON   \n",
       "1    -79.188180                 NaN             ON   \n",
       "2    -79.188368                 M1E             ON   \n",
       "3    -79.198180                 NaN             ON   \n",
       "4    -79.185976             M1E 2N8             ON   \n",
       "\n",
       "                               name    referralId  \n",
       "0  Wonder Season Chinese Restaurant  v-1542826365  \n",
       "1                  Mahar Restaurant  v-1542826365  \n",
       "2                        McDonald's  v-1542826365  \n",
       "3                Tai Chi Restaurant  v-1542826365  \n",
       "4          Peking Garden Restaurant  v-1542826365  "
      ]
     },
     "execution_count": 9,
     "metadata": {},
     "output_type": "execute_result"
    }
   ],
   "source": [
    "# assign relevant part of JSON to venues\n",
    "venues = results['response']['venues']\n",
    "\n",
    "# tranform venues into a dataframe\n",
    "dataframe = json_normalize(venues)\n",
    "dataframe.head()"
   ]
  },
  {
   "cell_type": "markdown",
   "metadata": {},
   "source": [
    "## Get the data about the number of restaurants we are interested in"
   ]
  },
  {
   "cell_type": "markdown",
   "metadata": {},
   "source": [
    "#### First add to df a column 'sum', where there will be the numbers of restaurants within 1000 meters from the neighbourhoods "
   ]
  },
  {
   "cell_type": "code",
   "execution_count": 10,
   "metadata": {},
   "outputs": [],
   "source": [
    "df['sum']=\"\""
   ]
  },
  {
   "cell_type": "markdown",
   "metadata": {},
   "source": [
    "#### Next for each row in df we take the values of latitude and longitude and form for them the FourSquare API query, where radius and search_query are defined above. As a result we get url, which will be then transformed to json format \n",
    "#### (by the command results = requests.get(url).json()).\n",
    "#### And then we put to the corresponding row of the column 'sum' the length of results['response']['venues'], which is exactly the number of restaurants within 1000 meters from the point we are interested in. "
   ]
  },
  {
   "cell_type": "code",
   "execution_count": 11,
   "metadata": {},
   "outputs": [
    {
     "name": "stderr",
     "output_type": "stream",
     "text": [
      "/home/jupyterlab/conda/lib/python3.6/site-packages/ipykernel_launcher.py:5: FutureWarning: set_value is deprecated and will be removed in a future release. Please use .at[] or .iat[] accessors instead\n",
      "  \"\"\"\n"
     ]
    }
   ],
   "source": [
    "for k, row in df.iterrows():\n",
    "    (lat,lng)= (row[\"Latitude\"], row[\"Longitude\"])\n",
    "    url = 'https://api.foursquare.com/v2/venues/search?client_id={}&client_secret={}&ll={},{}&v={}&query={}&radius={}&limit={}'.format(CLIENT_ID, CLIENT_SECRET, lat, lng, VERSION, search_query, radius, LIMIT)\n",
    "    results = requests.get(url).json()\n",
    "    df.set_value(index=k,col='sum',value=len(results['response']['venues']))\n",
    "    \n",
    "# Url = Url.append({'Italian food': url}, ignore_index=True)\n"
   ]
  },
  {
   "cell_type": "markdown",
   "metadata": {},
   "source": [
    "#### Here are the first 10 rows of the final fataframe"
   ]
  },
  {
   "cell_type": "code",
   "execution_count": 12,
   "metadata": {},
   "outputs": [
    {
     "data": {
      "text/html": [
       "<div>\n",
       "<style scoped>\n",
       "    .dataframe tbody tr th:only-of-type {\n",
       "        vertical-align: middle;\n",
       "    }\n",
       "\n",
       "    .dataframe tbody tr th {\n",
       "        vertical-align: top;\n",
       "    }\n",
       "\n",
       "    .dataframe thead th {\n",
       "        text-align: right;\n",
       "    }\n",
       "</style>\n",
       "<table border=\"1\" class=\"dataframe\">\n",
       "  <thead>\n",
       "    <tr style=\"text-align: right;\">\n",
       "      <th></th>\n",
       "      <th>Postcode</th>\n",
       "      <th>Borough</th>\n",
       "      <th>Neighbourhood</th>\n",
       "      <th>Latitude</th>\n",
       "      <th>Longitude</th>\n",
       "      <th>sum</th>\n",
       "    </tr>\n",
       "  </thead>\n",
       "  <tbody>\n",
       "    <tr>\n",
       "      <th>0</th>\n",
       "      <td>M1B</td>\n",
       "      <td>Scarborough</td>\n",
       "      <td>Rouge, Malvern</td>\n",
       "      <td>43.806686</td>\n",
       "      <td>-79.194353</td>\n",
       "      <td>0</td>\n",
       "    </tr>\n",
       "    <tr>\n",
       "      <th>1</th>\n",
       "      <td>M1C</td>\n",
       "      <td>Scarborough</td>\n",
       "      <td>Highland Creek, Rouge Hill, Port Union</td>\n",
       "      <td>43.784535</td>\n",
       "      <td>-79.160497</td>\n",
       "      <td>1</td>\n",
       "    </tr>\n",
       "    <tr>\n",
       "      <th>2</th>\n",
       "      <td>M1E</td>\n",
       "      <td>Scarborough</td>\n",
       "      <td>Guildwood, Morningside, West Hill</td>\n",
       "      <td>43.763573</td>\n",
       "      <td>-79.188711</td>\n",
       "      <td>5</td>\n",
       "    </tr>\n",
       "    <tr>\n",
       "      <th>3</th>\n",
       "      <td>M1G</td>\n",
       "      <td>Scarborough</td>\n",
       "      <td>Woburn</td>\n",
       "      <td>43.770992</td>\n",
       "      <td>-79.216917</td>\n",
       "      <td>3</td>\n",
       "    </tr>\n",
       "    <tr>\n",
       "      <th>4</th>\n",
       "      <td>M1H</td>\n",
       "      <td>Scarborough</td>\n",
       "      <td>Cedarbrae</td>\n",
       "      <td>43.773136</td>\n",
       "      <td>-79.239476</td>\n",
       "      <td>8</td>\n",
       "    </tr>\n",
       "    <tr>\n",
       "      <th>5</th>\n",
       "      <td>M1J</td>\n",
       "      <td>Scarborough</td>\n",
       "      <td>Scarborough Village</td>\n",
       "      <td>43.744734</td>\n",
       "      <td>-79.239476</td>\n",
       "      <td>7</td>\n",
       "    </tr>\n",
       "    <tr>\n",
       "      <th>6</th>\n",
       "      <td>M1K</td>\n",
       "      <td>Scarborough</td>\n",
       "      <td>East Birchmount Park, Ionview, Kennedy Park</td>\n",
       "      <td>43.727929</td>\n",
       "      <td>-79.262029</td>\n",
       "      <td>5</td>\n",
       "    </tr>\n",
       "    <tr>\n",
       "      <th>7</th>\n",
       "      <td>M1L</td>\n",
       "      <td>Scarborough</td>\n",
       "      <td>Clairlea, Golden Mile, Oakridge</td>\n",
       "      <td>43.711112</td>\n",
       "      <td>-79.284577</td>\n",
       "      <td>3</td>\n",
       "    </tr>\n",
       "    <tr>\n",
       "      <th>8</th>\n",
       "      <td>M1M</td>\n",
       "      <td>Scarborough</td>\n",
       "      <td>Cliffcrest, Cliffside, Scarborough Village West</td>\n",
       "      <td>43.716316</td>\n",
       "      <td>-79.239476</td>\n",
       "      <td>1</td>\n",
       "    </tr>\n",
       "    <tr>\n",
       "      <th>9</th>\n",
       "      <td>M1N</td>\n",
       "      <td>Scarborough</td>\n",
       "      <td>Birch Cliff, Cliffside West</td>\n",
       "      <td>43.692657</td>\n",
       "      <td>-79.264848</td>\n",
       "      <td>4</td>\n",
       "    </tr>\n",
       "  </tbody>\n",
       "</table>\n",
       "</div>"
      ],
      "text/plain": [
       "  Postcode      Borough                                    Neighbourhood  \\\n",
       "0      M1B  Scarborough                                   Rouge, Malvern   \n",
       "1      M1C  Scarborough           Highland Creek, Rouge Hill, Port Union   \n",
       "2      M1E  Scarborough                Guildwood, Morningside, West Hill   \n",
       "3      M1G  Scarborough                                           Woburn   \n",
       "4      M1H  Scarborough                                        Cedarbrae   \n",
       "5      M1J  Scarborough                              Scarborough Village   \n",
       "6      M1K  Scarborough      East Birchmount Park, Ionview, Kennedy Park   \n",
       "7      M1L  Scarborough                  Clairlea, Golden Mile, Oakridge   \n",
       "8      M1M  Scarborough  Cliffcrest, Cliffside, Scarborough Village West   \n",
       "9      M1N  Scarborough                      Birch Cliff, Cliffside West   \n",
       "\n",
       "    Latitude  Longitude sum  \n",
       "0  43.806686 -79.194353   0  \n",
       "1  43.784535 -79.160497   1  \n",
       "2  43.763573 -79.188711   5  \n",
       "3  43.770992 -79.216917   3  \n",
       "4  43.773136 -79.239476   8  \n",
       "5  43.744734 -79.239476   7  \n",
       "6  43.727929 -79.262029   5  \n",
       "7  43.711112 -79.284577   3  \n",
       "8  43.716316 -79.239476   1  \n",
       "9  43.692657 -79.264848   4  "
      ]
     },
     "execution_count": 12,
     "metadata": {},
     "output_type": "execute_result"
    }
   ],
   "source": [
    "df.head(10)"
   ]
  },
  {
   "cell_type": "markdown",
   "metadata": {},
   "source": [
    "#### So df is the dataframe that we will use in the next step for solving the business problem"
   ]
  },
  {
   "cell_type": "code",
   "execution_count": null,
   "metadata": {},
   "outputs": [],
   "source": []
  }
 ],
 "metadata": {
  "kernelspec": {
   "display_name": "Python 3",
   "language": "python",
   "name": "python3"
  },
  "language_info": {
   "codemirror_mode": {
    "name": "ipython",
    "version": 3
   },
   "file_extension": ".py",
   "mimetype": "text/x-python",
   "name": "python",
   "nbconvert_exporter": "python",
   "pygments_lexer": "ipython3",
   "version": "3.6.5"
  }
 },
 "nbformat": 4,
 "nbformat_minor": 2
}
