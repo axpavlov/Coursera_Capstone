{
 "cells": [
  {
   "cell_type": "markdown",
   "metadata": {},
   "source": [
    "## Introduction/Business Problem"
   ]
  },
  {
   "cell_type": "markdown",
   "metadata": {},
   "source": [
    "#### The problem we will solve is: which of the neighbourhoods of Toronto are more suitable to open there a restaurant?"
   ]
  },
  {
   "cell_type": "markdown",
   "metadata": {},
   "source": [
    " #### To solve this problem we will find out by FourSquare API how many restaurants are within 1000 meters from each of Toronto Neighbourhoods. "
   ]
  },
  {
   "cell_type": "markdown",
   "metadata": {},
   "source": [
    "#### Then we will divide all Toronto neighbourhoods into three groups by K-means clusterization. The first group will contain neighbourhoods with a few of restaurants. And this group is the most suitable to be considered for launching there a new restaurant. The second group will contain neighbourhoods with a medium number of restaurants. And it is also not so bad choice to open there a new restaurant. And the third group is not so suitable to open there a new restaurant business because there are a lot of restaurants there. "
   ]
  },
  {
   "cell_type": "markdown",
   "metadata": {},
   "source": [
    "#### Our analysis may be interesting for those people, who are planning to start (or extend, or improve) a restaurant business in Toronto, and looking for a suitable place for launching a new restaurant. Or may be someone has already had a restaurant in Toronto, and is not completely satisfied by the results, and is searching for the reasons why his/her restaurant business is not so successful. "
   ]
  },
  {
   "cell_type": "markdown",
   "metadata": {},
   "source": [
    "##### Sure the number of restaurants within 1000 meters from a neighbourhood is not the unique factor to decide is it a good idea to open there a new restaurant or not. And this clusterization may be considered just as the first step for more detailed analysis based on a lot of other factors. But this more detailed analysis is not the subject of our consideration now. "
   ]
  }
 ],
 "metadata": {
  "kernelspec": {
   "display_name": "Python 3",
   "language": "python",
   "name": "python3"
  },
  "language_info": {
   "codemirror_mode": {
    "name": "ipython",
    "version": 3
   },
   "file_extension": ".py",
   "mimetype": "text/x-python",
   "name": "python",
   "nbconvert_exporter": "python",
   "pygments_lexer": "ipython3",
   "version": "3.6.5"
  }
 },
 "nbformat": 4,
 "nbformat_minor": 2
}
